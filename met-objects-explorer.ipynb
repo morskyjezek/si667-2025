{
 "cells": [
  {
   "attachments": {},
   "cell_type": "markdown",
   "metadata": {},
   "source": [
    "# Looking at the MET Objects datafile\n",
    "\n",
    "Downloaded on Feb 14, 2023. Source: https://github.com/metmuseum/openaccess\n",
    "\n",
    "The following counts the records in the CSV file. Due to some newlines and embedded commas in the data,\n",
    "you will need a shell CSV toolkit to work with this data. That can be done with [`csvkit`](https://csvkit.readthedocs.io/en/latest/index.html), or you can parse the CSV using python, as demonstrated below. "
   ]
  },
  {
   "cell_type": "code",
   "execution_count": null,
   "metadata": {},
   "outputs": [],
   "source": [
    "import csv"
   ]
  },
  {
   "cell_type": "code",
   "execution_count": null,
   "metadata": {},
   "outputs": [],
   "source": [
    "# to run this locally, you need to provide a file path to the file you want to count below:\n",
    "file = 'MetObjects.txt' # this may be txt or csv, depending on how and where you download it. If you have a CSV file, MetObjects.csv is equivalent to MetObjects.txt\n",
    "\n",
    "## a two-step way to open the file and count the records:\n",
    "\n",
    "# 1. open the file\n",
    "with open(file, 'r', encoding='utf-8') as csvfile:\n",
    "    met_data = csv.DictReader(csvfile)\n",
    "\n",
    "    # 2. initiate a count variable and count the rows\n",
    "    row_count = 0\n",
    "    for row in met_data:\n",
    "        row_count += 1\n",
    "\n",
    "# Display the count\n",
    "print(row_count)"
   ]
  }
 ],
 "metadata": {
  "kernelspec": {
   "display_name": "Python 3",
   "language": "python",
   "name": "python3"
  },
  "language_info": {
   "codemirror_mode": {
    "name": "ipython",
    "version": 3
   },
   "file_extension": ".py",
   "mimetype": "text/x-python",
   "name": "python",
   "nbconvert_exporter": "python",
   "pygments_lexer": "ipython3",
   "version": "3.9.6"
  },
  "orig_nbformat": 4,
  "vscode": {
   "interpreter": {
    "hash": "31f2aee4e71d21fbe5cf8b01ff0e069b9275f58929596ceb00d14d90e3e16cd6"
   }
  }
 },
 "nbformat": 4,
 "nbformat_minor": 2
}
